{
  "nbformat": 4,
  "nbformat_minor": 0,
  "metadata": {
    "colab": {
      "name": "Cats_vs_dogs.ipynb",
      "private_outputs": true,
      "provenance": [],
      "collapsed_sections": [],
      "include_colab_link": true
    },
    "kernelspec": {
      "name": "python3",
      "display_name": "Python 3"
    },
    "language_info": {
      "name": "python"
    },
    "accelerator": "GPU"
  },
  "cells": [
    {
      "cell_type": "markdown",
      "metadata": {
        "id": "view-in-github",
        "colab_type": "text"
      },
      "source": [
        "<a href=\"https://colab.research.google.com/github/bhavyaKumawat/tensorflow-datasets/blob/main/Cats_vs_dogs.ipynb\" target=\"_parent\"><img src=\"https://colab.research.google.com/assets/colab-badge.svg\" alt=\"Open In Colab\"/></a>"
      ]
    },
    {
      "cell_type": "markdown",
      "metadata": {
        "id": "ueTChLh9xBOs"
      },
      "source": [
        "## Import Libraries"
      ]
    },
    {
      "cell_type": "code",
      "metadata": {
        "id": "9aNohw0ctVoX"
      },
      "source": [
        "import zipfile\n",
        "import os\n",
        "import tensorflow as tf\n",
        "from tensorflow import keras\n",
        "import numpy as np\n",
        "import pandas as pd\n",
        "import matplotlib.pyplot as plt\n",
        "from google.colab import drive\n",
        "from matplotlib.image import imread\n",
        "from tensorflow.keras.optimizers import Adam, RMSprop\n",
        "from keras.preprocessing.image import ImageDataGenerator\n",
        "from keras.applications.vgg16 import VGG16"
      ],
      "execution_count": null,
      "outputs": []
    },
    {
      "cell_type": "markdown",
      "metadata": {
        "id": "jpv9uSq2iAFK"
      },
      "source": [
        "## Download Kaggle Datasets"
      ]
    },
    {
      "cell_type": "code",
      "metadata": {
        "id": "AouxPm6ud1_v"
      },
      "source": [
        "drive.mount('/content/drive')"
      ],
      "execution_count": null,
      "outputs": []
    },
    {
      "cell_type": "code",
      "metadata": {
        "id": "_jN4Fww8gj_u"
      },
      "source": [
        "! mkdir /root/.kaggle"
      ],
      "execution_count": null,
      "outputs": []
    },
    {
      "cell_type": "code",
      "metadata": {
        "id": "tZEup8KWh5wM"
      },
      "source": [
        "! cp 'drive/MyDrive/Colab Notebooks/kaggle.json' '/root/.kaggle/kaggle.json'"
      ],
      "execution_count": null,
      "outputs": []
    },
    {
      "cell_type": "code",
      "metadata": {
        "id": "KBZ0t1FhgzTW"
      },
      "source": [
        "! kaggle competitions download -c dogs-vs-cats-redux-kernels-edition"
      ],
      "execution_count": null,
      "outputs": []
    },
    {
      "cell_type": "code",
      "metadata": {
        "id": "WqT3cHxNiZpi"
      },
      "source": [
        "! ls"
      ],
      "execution_count": null,
      "outputs": []
    },
    {
      "cell_type": "code",
      "metadata": {
        "id": "IfV9Mn6jh74o"
      },
      "source": [
        "files = ['test.zip' , 'train.zip']\n",
        "\n",
        "for File in files:\n",
        "  with zipfile.ZipFile(File, 'r') as zip_ref:\n",
        "    zip_ref.extractall(os.getcwd())"
      ],
      "execution_count": null,
      "outputs": []
    },
    {
      "cell_type": "code",
      "metadata": {
        "id": "u_aSsC8XizeR"
      },
      "source": [
        "print(\"Training examples : \", len(os.listdir('train')))\n",
        "print(\"Test examples : \", len(os.listdir('test')))"
      ],
      "execution_count": null,
      "outputs": []
    },
    {
      "cell_type": "code",
      "metadata": {
        "id": "IV-dGbJFjFBf"
      },
      "source": [
        "def file_to_ndarray(dir , index):\n",
        "  example_name = os.listdir(dir)[index]\n",
        "  file_name = os.path.join(dir, example_name)\n",
        "  img = imread(file_name)\n",
        "  return img"
      ],
      "execution_count": null,
      "outputs": []
    },
    {
      "cell_type": "markdown",
      "metadata": {
        "id": "mkTFjp8br6Bu"
      },
      "source": [
        "All images are of different shapes"
      ]
    },
    {
      "cell_type": "code",
      "metadata": {
        "id": "sGoRX1KnlOox"
      },
      "source": [
        "img1 = file_to_ndarray('train' , 0)\n",
        "print(\"example1 Shape : \", img1.shape)\n",
        "\n",
        "img2 = file_to_ndarray('train' , 1)\n",
        "print(\"example2 Shape : \", img2.shape)"
      ],
      "execution_count": null,
      "outputs": []
    },
    {
      "cell_type": "markdown",
      "metadata": {
        "id": "plCMFN1-F39r"
      },
      "source": [
        "Lets plot some images in dataset"
      ]
    },
    {
      "cell_type": "code",
      "metadata": {
        "id": "4SmSc_YAE19H"
      },
      "source": [
        "plt.figure(figsize=(10,10))\n",
        "plt.subplot(1,2,1)\n",
        "plt.imshow(img1)\n",
        "plt.subplot(1,2,2)\n",
        "plt.imshow(img2)\n",
        "plt.show()"
      ],
      "execution_count": null,
      "outputs": []
    },
    {
      "cell_type": "markdown",
      "metadata": {
        "id": "LK0mNT84s3nu"
      },
      "source": [
        "## Split dataset for Cats and Dogs"
      ]
    },
    {
      "cell_type": "code",
      "metadata": {
        "id": "-ZL7dl1SJoLU"
      },
      "source": [
        "! mkdir dir"
      ],
      "execution_count": null,
      "outputs": []
    },
    {
      "cell_type": "code",
      "metadata": {
        "id": "Nk7qUsEOoEVl"
      },
      "source": [
        "! mkdir dir/cats dir/dogs"
      ],
      "execution_count": null,
      "outputs": []
    },
    {
      "cell_type": "code",
      "metadata": {
        "id": "R_27dQUMtEdf"
      },
      "source": [
        "! cp train/cat.* dir/cats/"
      ],
      "execution_count": null,
      "outputs": []
    },
    {
      "cell_type": "code",
      "metadata": {
        "id": "NIvV7NH3wBBI"
      },
      "source": [
        "print(\"Cat examples : \", len(os.listdir('dir/cats/')))"
      ],
      "execution_count": null,
      "outputs": []
    },
    {
      "cell_type": "code",
      "metadata": {
        "id": "yG1jXQXNuaZO"
      },
      "source": [
        "! cp train/dog.* dir/dogs/"
      ],
      "execution_count": null,
      "outputs": []
    },
    {
      "cell_type": "code",
      "metadata": {
        "id": "LnNpi7rkvpD4"
      },
      "source": [
        "print(\"Dog examples : \", len(os.listdir('dir/dogs/')))"
      ],
      "execution_count": null,
      "outputs": []
    },
    {
      "cell_type": "markdown",
      "metadata": {
        "id": "euq-AoSRGcCJ"
      },
      "source": [
        "##Data augmentation"
      ]
    },
    {
      "cell_type": "code",
      "metadata": {
        "id": "HKsDTG5PwW4F"
      },
      "source": [
        "validation_split = 0.20\n",
        "\n",
        "datagen = ImageDataGenerator(\n",
        "    rescale=1.0/255,\n",
        "    width_shift_range=0.1,\n",
        "    height_shift_range=0.1,\n",
        "    fill_mode=\"nearest\",\n",
        "    horizontal_flip=True,\n",
        "    validation_split=validation_split\n",
        ")"
      ],
      "execution_count": null,
      "outputs": []
    },
    {
      "cell_type": "code",
      "metadata": {
        "id": "CDvhf06VL8JK"
      },
      "source": [
        "train_generator = datagen.flow_from_directory(\n",
        "    'dir',\n",
        "    target_size=(224, 224),\n",
        "    color_mode=\"rgb\",\n",
        "    class_mode='binary',\n",
        "    batch_size = 32,\n",
        "    subset='training'\n",
        ")\n",
        "\n",
        "\n",
        "validation_generator = datagen.flow_from_directory(\n",
        "    'dir',\n",
        "    target_size=(224, 224),\n",
        "    color_mode=\"rgb\",\n",
        "    class_mode='binary',\n",
        "    batch_size = 8,\n",
        "    subset='validation'\n",
        ")\n"
      ],
      "execution_count": null,
      "outputs": []
    },
    {
      "cell_type": "markdown",
      "metadata": {
        "id": "Yc6MCPk4NKtO"
      },
      "source": [
        "## Transfer Learning"
      ]
    },
    {
      "cell_type": "code",
      "metadata": {
        "id": "4cmGAQWE8YNR"
      },
      "source": [
        "base_model = VGG16(\n",
        "    input_shape = (224, 224, 3),\n",
        "    include_top = False \n",
        ")"
      ],
      "execution_count": null,
      "outputs": []
    },
    {
      "cell_type": "code",
      "metadata": {
        "id": "Jup0-qNSAs1U"
      },
      "source": [
        "base_model.trainable = False\n",
        "\n",
        "base_model.summary()"
      ],
      "execution_count": null,
      "outputs": []
    },
    {
      "cell_type": "code",
      "metadata": {
        "id": "0pykaW9F_wZL"
      },
      "source": [
        "last_layer = base_model.layers[-1]\n",
        "last_output = last_layer.output"
      ],
      "execution_count": null,
      "outputs": []
    },
    {
      "cell_type": "code",
      "metadata": {
        "id": "nXy8DYLXA9uy"
      },
      "source": [
        "x = keras.layers.Flatten()(last_output)\n",
        "x = keras.layers.Dense(512, activation = 'relu')(x)\n",
        "x = keras.layers.Dropout(0.5)(x)\n",
        "x = keras.layers.Dense(1, activation = 'sigmoid')(x)"
      ],
      "execution_count": null,
      "outputs": []
    },
    {
      "cell_type": "code",
      "metadata": {
        "id": "d6Cr-mkV8YP8"
      },
      "source": [
        "model = keras.Model(base_model.input, x)"
      ],
      "execution_count": null,
      "outputs": []
    },
    {
      "cell_type": "code",
      "metadata": {
        "id": "7MDHhO2yWVJr"
      },
      "source": [
        "optimizer = Adam(learning_rate= 1e-03)\n",
        "model.compile(optimizer=optimizer, loss = 'binary_crossentropy', metrics=['accuracy'])"
      ],
      "execution_count": null,
      "outputs": []
    },
    {
      "cell_type": "markdown",
      "metadata": {
        "id": "WaIX0MpbYkEG"
      },
      "source": [
        "## Train the model"
      ]
    },
    {
      "cell_type": "code",
      "metadata": {
        "id": "ecJ3I8KBYdPY"
      },
      "source": [
        "training_examples =  len(os.listdir('train'))\n",
        "\n",
        "history = model.fit(\n",
        "    train_generator,\n",
        "    steps_per_epoch= (training_examples*(1-validation_split)) / 32, \n",
        "    epochs = 5,\n",
        "    validation_data = validation_generator,\n",
        "    validation_steps= (training_examples* validation_split) / 8\n",
        ")"
      ],
      "execution_count": null,
      "outputs": []
    },
    {
      "cell_type": "markdown",
      "metadata": {
        "id": "vWXWsXLL00a2"
      },
      "source": [
        "#Fine-Tuning"
      ]
    },
    {
      "cell_type": "code",
      "metadata": {
        "id": "gciK63KB0zhF"
      },
      "source": [
        "base_model.trainable = True"
      ],
      "execution_count": null,
      "outputs": []
    },
    {
      "cell_type": "code",
      "metadata": {
        "id": "Hgj5iNYU1C5E"
      },
      "source": [
        "model.compile(optimizer= Adam( learning_rate= 1e-5), loss = 'binary_crossentropy', metrics=['accuracy'])"
      ],
      "execution_count": null,
      "outputs": []
    },
    {
      "cell_type": "code",
      "metadata": {
        "id": "vl7rwCeE1DJQ"
      },
      "source": [
        "history = model.fit(\n",
        "    train_generator,\n",
        "    steps_per_epoch= (training_examples*(1-validation_split)) / 32, \n",
        "    epochs = 1,\n",
        "    validation_data = validation_generator,\n",
        "    validation_steps= (training_examples* validation_split) / 8\n",
        ")"
      ],
      "execution_count": null,
      "outputs": []
    },
    {
      "cell_type": "markdown",
      "metadata": {
        "id": "eaYP4JtMpNa7"
      },
      "source": [
        "## Training vs Validation accuracy"
      ]
    },
    {
      "cell_type": "code",
      "metadata": {
        "id": "QeO4f5xVaAgt"
      },
      "source": [
        "acc = history.history['accuracy']\n",
        "val_acc = history.history['val_accuracy']\n",
        "loss = history.history['loss']\n",
        "val_loss = history.history['val_loss']\n",
        "\n",
        "epochs = range(len(acc))\n",
        "\n",
        "plt.plot(epochs, acc, 'r', label='Training accuracy')\n",
        "plt.plot(epochs, val_acc, 'b', label='Validation accuracy')\n",
        "plt.title('Training and validation accuracy')\n",
        "plt.legend(loc=0)\n",
        "plt.figure()\n",
        "\n",
        "\n",
        "plt.show()"
      ],
      "execution_count": null,
      "outputs": []
    },
    {
      "cell_type": "markdown",
      "metadata": {
        "id": "gkpfZYz5p0ay"
      },
      "source": [
        "## Submission"
      ]
    },
    {
      "cell_type": "code",
      "metadata": {
        "id": "LTECPt-AHVX6"
      },
      "source": [
        "! mkdir test_dir"
      ],
      "execution_count": null,
      "outputs": []
    },
    {
      "cell_type": "code",
      "metadata": {
        "id": "F0QTVXfcHarB"
      },
      "source": [
        "! mv test test_dir"
      ],
      "execution_count": null,
      "outputs": []
    },
    {
      "cell_type": "code",
      "metadata": {
        "id": "HIKDN0I4AOTh"
      },
      "source": [
        "test_datagen = ImageDataGenerator(rescale=1.0/255)"
      ],
      "execution_count": null,
      "outputs": []
    },
    {
      "cell_type": "code",
      "metadata": {
        "id": "9JIJJ8KN_Wby"
      },
      "source": [
        "test_generator = test_datagen.flow_from_directory(\n",
        "    'test_dir',\n",
        "    # use same color mode as in training\n",
        "    color_mode=\"rgb\",\n",
        "    # don't generate labels\n",
        "    class_mode=None,\n",
        "    # don't shuffle\n",
        "    shuffle=False,\n",
        "    # use same size as in training\n",
        "    target_size=(224, 224)\n",
        "    )"
      ],
      "execution_count": null,
      "outputs": []
    },
    {
      "cell_type": "markdown",
      "metadata": {
        "id": "h9mSzAhHSpmR"
      },
      "source": [
        "We have to predict a probability that the image is a dog <br>\n",
        "(0 = cat, 1 = dog)"
      ]
    },
    {
      "cell_type": "code",
      "metadata": {
        "id": "_-auLCE8PWLw"
      },
      "source": [
        "train_generator.class_indices"
      ],
      "execution_count": null,
      "outputs": []
    },
    {
      "cell_type": "code",
      "metadata": {
        "id": "dhsci7yuA9SU"
      },
      "source": [
        "predictions = model.predict(test_generator)\n",
        "predictions = np.squeeze(predictions , axis = -1)"
      ],
      "execution_count": null,
      "outputs": []
    },
    {
      "cell_type": "markdown",
      "metadata": {
        "id": "0FtAN1jnQpVM"
      },
      "source": [
        "Display some images with their predictions"
      ]
    },
    {
      "cell_type": "code",
      "metadata": {
        "id": "w4BH1amWQoP_"
      },
      "source": [
        "plt.figure(figsize=(10,10))\n",
        "for i in range(25):\n",
        "    plt.subplot(5,5,i+1)\n",
        "    plt.xticks([])\n",
        "    plt.yticks([])\n",
        "    plt.title(str(predictions[i]))\n",
        "    plt.imshow(file_to_ndarray('test_dir/test' , i))\n",
        "plt.show()"
      ],
      "execution_count": null,
      "outputs": []
    },
    {
      "cell_type": "code",
      "metadata": {
        "id": "csu--0NcNG9M"
      },
      "source": [
        "data = {'id': pd.Series(range(1 , len(predictions)+1)), \n",
        "        'label':predictions} \n",
        "\n",
        "submission = pd.DataFrame(data)"
      ],
      "execution_count": null,
      "outputs": []
    },
    {
      "cell_type": "code",
      "metadata": {
        "id": "wkvI_WAZOTg-"
      },
      "source": [
        "submission.to_csv('submission.csv'  , index=False)"
      ],
      "execution_count": null,
      "outputs": []
    },
    {
      "cell_type": "code",
      "metadata": {
        "id": "E_wBFFCPOW6E"
      },
      "source": [
        "! kaggle competitions submit -c dogs-vs-cats-redux-kernels-edition -f submission.csv -m 'VGG16'"
      ],
      "execution_count": null,
      "outputs": []
    }
  ]
}