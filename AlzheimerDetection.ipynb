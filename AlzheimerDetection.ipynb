{
  "nbformat": 4,
  "nbformat_minor": 0,
  "metadata": {
    "colab": {
      "provenance": [],
      "mount_file_id": "127f-3ap6l_PB-KS7lpayKP0s7e1VeOex",
      "authorship_tag": "ABX9TyPHnPcsVXMTrat32fujZLES",
      "include_colab_link": true
    },
    "kernelspec": {
      "name": "python3",
      "display_name": "Python 3"
    },
    "language_info": {
      "name": "python"
    },
    "accelerator": "GPU",
    "gpuClass": "standard"
  },
  "cells": [
    {
      "cell_type": "markdown",
      "metadata": {
        "id": "view-in-github",
        "colab_type": "text"
      },
      "source": [
        "<a href=\"https://colab.research.google.com/github/bhavyaKumawat/tensorflow-datasets/blob/main/AlzheimerDetection.ipynb\" target=\"_parent\"><img src=\"https://colab.research.google.com/assets/colab-badge.svg\" alt=\"Open In Colab\"/></a>"
      ]
    },
    {
      "cell_type": "markdown",
      "source": [
        "## Import necessary libraries"
      ],
      "metadata": {
        "id": "rYy2Ti5dDbMu"
      }
    },
    {
      "cell_type": "code",
      "execution_count": 1,
      "metadata": {
        "id": "O1G9FnegB6OT"
      },
      "outputs": [],
      "source": [
        "import zipfile\n",
        "import os\n",
        "import glob\n",
        "import matplotlib.pyplot as plt\n",
        "import numpy as np\n",
        "import PIL\n",
        "import pathlib\n",
        "import tensorflow as tf\n",
        "from matplotlib.image import imread\n",
        "\n",
        "from tensorflow import keras\n",
        "from tensorflow.keras import layers\n",
        "from tensorflow.keras.models import Sequential\n",
        "from tensorflow.keras.optimizers import Adam, RMSprop\n",
        "from keras.preprocessing.image import ImageDataGenerator\n",
        "from keras.applications.vgg19 import VGG19\n",
        "from tensorflow.keras.losses import CategoricalCrossentropy\n",
        "from tensorflow.keras.layers import Input, Lambda, Dense, Flatten, Dropout\n",
        "from tensorflow.keras.models import Model"
      ]
    },
    {
      "cell_type": "markdown",
      "source": [
        "## Download Kaggle Datasets\n",
        "[ Kaggle Dataset](https://www.kaggle.com/datasets/tourist55/alzheimers-dataset-4-class-of-images)"
      ],
      "metadata": {
        "id": "yCBomQrIDXfy"
      }
    },
    {
      "cell_type": "code",
      "source": [
        "from google.colab import drive\n",
        "drive.mount('/content/drive')"
      ],
      "metadata": {
        "colab": {
          "base_uri": "https://localhost:8080/"
        },
        "id": "CKIHx2E0EKkD",
        "outputId": "041c9cb6-703e-404e-d5ce-1becd9b2aca7"
      },
      "execution_count": 2,
      "outputs": [
        {
          "output_type": "stream",
          "name": "stdout",
          "text": [
            "Drive already mounted at /content/drive; to attempt to forcibly remount, call drive.mount(\"/content/drive\", force_remount=True).\n"
          ]
        }
      ]
    },
    {
      "cell_type": "code",
      "source": [
        "! mkdir /root/.kaggle\n",
        "! cp 'drive/MyDrive/Colab Notebooks/kaggle.json' '/root/.kaggle/kaggle.json'"
      ],
      "metadata": {
        "colab": {
          "base_uri": "https://localhost:8080/"
        },
        "id": "LlPbD699ENOY",
        "outputId": "0b1e9579-0bbd-41e4-d845-8f1d5752db04"
      },
      "execution_count": 3,
      "outputs": [
        {
          "output_type": "stream",
          "name": "stdout",
          "text": [
            "mkdir: cannot create directory ‘/root/.kaggle’: File exists\n"
          ]
        }
      ]
    },
    {
      "cell_type": "code",
      "source": [
        "! kaggle datasets download -d tourist55/alzheimers-dataset-4-class-of-images"
      ],
      "metadata": {
        "colab": {
          "base_uri": "https://localhost:8080/"
        },
        "id": "VqcZakIRETHl",
        "outputId": "46e71ceb-3c86-4e03-e8cd-cad04de11a99"
      },
      "execution_count": 4,
      "outputs": [
        {
          "output_type": "stream",
          "name": "stdout",
          "text": [
            "alzheimers-dataset-4-class-of-images.zip: Skipping, found more recently modified local copy (use --force to force download)\n"
          ]
        }
      ]
    },
    {
      "cell_type": "code",
      "source": [
        "zip_file = \"alzheimers-dataset-4-class-of-images.zip\"\n",
        "\n",
        "with zipfile.ZipFile(zip_file, 'r') as zip_ref:\n",
        "    zip_ref.extractall(os.getcwd())"
      ],
      "metadata": {
        "id": "_iaHxkhNDUwJ"
      },
      "execution_count": 5,
      "outputs": []
    },
    {
      "cell_type": "code",
      "source": [
        "data_dir = pathlib.Path(\"Alzheimer_s Dataset\")\n",
        "train_dir = os.path.join(data_dir, \"train\")\n",
        "test_dir = os.path.join(data_dir, \"test\")"
      ],
      "metadata": {
        "id": "5r8QKCWFGXBl"
      },
      "execution_count": 6,
      "outputs": []
    },
    {
      "cell_type": "markdown",
      "source": [
        "### Train and Test Dataset size"
      ],
      "metadata": {
        "id": "F6q5bCn6GBZZ"
      }
    },
    {
      "cell_type": "code",
      "source": [
        "os.listdir(data_dir)"
      ],
      "metadata": {
        "colab": {
          "base_uri": "https://localhost:8080/"
        },
        "id": "1DsiFmjmGAls",
        "outputId": "82535ee8-8cc1-4aab-a3c9-6e66abd11ad1"
      },
      "execution_count": 7,
      "outputs": [
        {
          "output_type": "execute_result",
          "data": {
            "text/plain": [
              "['test', 'train']"
            ]
          },
          "metadata": {},
          "execution_count": 7
        }
      ]
    },
    {
      "cell_type": "code",
      "source": [
        "for category in [\"train\", \"test\"]:\n",
        "  print(f\"{category}\")\n",
        "  path = os.path.join(data_dir, category)\n",
        "  for class_ in os.listdir(path):\n",
        "    print(f\"{class_} : {len(os.listdir(os.path.join(path, class_)))}\")"
      ],
      "metadata": {
        "colab": {
          "base_uri": "https://localhost:8080/"
        },
        "id": "zfKd512LHLvZ",
        "outputId": "a7ead588-a2f4-4a3b-f079-889d3a700329"
      },
      "execution_count": 8,
      "outputs": [
        {
          "output_type": "stream",
          "name": "stdout",
          "text": [
            "train\n",
            "VeryMildDemented : 1792\n",
            "ModerateDemented : 52\n",
            "MildDemented : 717\n",
            "NonDemented : 2560\n",
            "test\n",
            "VeryMildDemented : 448\n",
            "ModerateDemented : 12\n",
            "MildDemented : 179\n",
            "NonDemented : 640\n"
          ]
        }
      ]
    },
    {
      "cell_type": "markdown",
      "source": [
        "## Plot some images in dataset"
      ],
      "metadata": {
        "id": "MjJ3vKelJFey"
      }
    },
    {
      "cell_type": "code",
      "source": [
        "train = glob.glob(f\"{train_dir}/*/*\")\n",
        "img = PIL.Image.open(train[0])\n",
        "img"
      ],
      "metadata": {
        "colab": {
          "base_uri": "https://localhost:8080/",
          "height": 225
        },
        "id": "fXH-tufqHpgz",
        "outputId": "e15ca265-f781-4cd9-9b5a-2cc16917fc1f"
      },
      "execution_count": 9,
      "outputs": [
        {
          "output_type": "execute_result",
          "data": {
            "text/plain": [
              "<PIL.JpegImagePlugin.JpegImageFile image mode=L size=176x208 at 0x7FE09E014820>"
            ],
            "image/png": "[encoded data removed]"
          },
          "metadata": {},
          "execution_count": 9
        }
      ]
    },
    {
      "cell_type": "code",
      "source": [
        "img.size"
      ],
      "metadata": {
        "colab": {
          "base_uri": "https://localhost:8080/"
        },
        "id": "ESUZQ8cBKM8s",
        "outputId": "fbc9b94c-596a-4907-a3eb-25192a683ca2"
      },
      "execution_count": 10,
      "outputs": [
        {
          "output_type": "execute_result",
          "data": {
            "text/plain": [
              "(176, 208)"
            ]
          },
          "metadata": {},
          "execution_count": 10
        }
      ]
    },
    {
      "cell_type": "code",
      "source": [
        "def file_to_ndarray(dir , index):\n",
        "  example_name = os.listdir(dir)[index]\n",
        "  file_name = os.path.join(dir, example_name)\n",
        "  img = imread(file_name)\n",
        "  return img"
      ],
      "metadata": {
        "id": "tDvcuFB_MBBA"
      },
      "execution_count": 11,
      "outputs": []
    },
    {
      "cell_type": "markdown",
      "source": [
        "##Data augmentation"
      ],
      "metadata": {
        "id": "6Xc2olNTOBOZ"
      }
    },
    {
      "cell_type": "code",
      "source": [
        "validation_split = 0.1\n",
        "\n",
        "datagen = ImageDataGenerator(\n",
        "    rescale=1.0/255,\n",
        "    validation_split=validation_split\n",
        ")"
      ],
      "metadata": {
        "id": "MDHPZBqRNeH3"
      },
      "execution_count": 12,
      "outputs": []
    },
    {
      "cell_type": "code",
      "source": [
        "train_generator = datagen.flow_from_directory(\n",
        "    train_dir,\n",
        "    target_size=(176, 176),\n",
        "    color_mode=\"rgb\",\n",
        "    class_mode='categorical',\n",
        "    batch_size = 32,\n",
        "    subset='training'\n",
        ")\n",
        "\n",
        "validation_generator = datagen.flow_from_directory(\n",
        "    train_dir,\n",
        "    target_size=(176, 176),\n",
        "    color_mode=\"rgb\",\n",
        "    class_mode='categorical',\n",
        "    batch_size = 8,\n",
        "    subset='validation'\n",
        ")\n"
      ],
      "metadata": {
        "colab": {
          "base_uri": "https://localhost:8080/"
        },
        "id": "-8qAS6nDOLq6",
        "outputId": "003ff4a3-767b-45fc-bbf3-dec40a972850"
      },
      "execution_count": 13,
      "outputs": [
        {
          "output_type": "stream",
          "name": "stdout",
          "text": [
            "Found 4610 images belonging to 4 classes.\n",
            "Found 511 images belonging to 4 classes.\n"
          ]
        }
      ]
    },
    {
      "cell_type": "markdown",
      "source": [
        "## Transfer Learning"
      ],
      "metadata": {
        "id": "Jfu9E-8VRxg7"
      }
    },
    {
      "cell_type": "code",
      "source": [
        "vgg = VGG19(input_shape=(176,176,3), weights='imagenet', include_top=False)\n",
        "for layer in vgg.layers:\n",
        "    layer.trainable = False\n",
        "x = Flatten()(vgg.output)\n",
        "\n",
        "prediction = Dense(4, activation='softmax')(x)\n",
        "\n",
        "model = Model(inputs=vgg.input, outputs=prediction)\n",
        "model.summary()"
      ],
      "metadata": {
        "colab": {
          "base_uri": "https://localhost:8080/"
        },
        "id": "nbK-L9lYQbYo",
        "outputId": "5cddbdaf-5770-4d02-83c1-bcf5086a55f6"
      },
      "execution_count": 14,
      "outputs": [
        {
          "output_type": "stream",
          "name": "stdout",
          "text": [
            "Model: \"model\"\n",
            "_________________________________________________________________\n",
            " Layer (type)                Output Shape              Param #   \n",
            "=================================================================\n",
            " input_1 (InputLayer)        [(None, 176, 176, 3)]     0         \n",
            "                                                                 \n",
            " block1_conv1 (Conv2D)       (None, 176, 176, 64)      1792      \n",
            "                                                                 \n",
            " block1_conv2 (Conv2D)       (None, 176, 176, 64)      36928     \n",
            "                                                                 \n",
            " block1_pool (MaxPooling2D)  (None, 88, 88, 64)        0         \n",
            "                                                                 \n",
            " block2_conv1 (Conv2D)       (None, 88, 88, 128)       73856     \n",
            "                                                                 \n",
            " block2_conv2 (Conv2D)       (None, 88, 88, 128)       147584    \n",
            "                                                                 \n",
            " block2_pool (MaxPooling2D)  (None, 44, 44, 128)       0         \n",
            "                                                                 \n",
            " block3_conv1 (Conv2D)       (None, 44, 44, 256)       295168    \n",
            "                                                                 \n",
            " block3_conv2 (Conv2D)       (None, 44, 44, 256)       590080    \n",
            "                                                                 \n",
            " block3_conv3 (Conv2D)       (None, 44, 44, 256)       590080    \n",
            "                                                                 \n",
            " block3_conv4 (Conv2D)       (None, 44, 44, 256)       590080    \n",
            "                                                                 \n",
            " block3_pool (MaxPooling2D)  (None, 22, 22, 256)       0         \n",
            "                                                                 \n",
            " block4_conv1 (Conv2D)       (None, 22, 22, 512)       1180160   \n",
            "                                                                 \n",
            " block4_conv2 (Conv2D)       (None, 22, 22, 512)       2359808   \n",
            "                                                                 \n",
            " block4_conv3 (Conv2D)       (None, 22, 22, 512)       2359808   \n",
            "                                                                 \n",
            " block4_conv4 (Conv2D)       (None, 22, 22, 512)       2359808   \n",
            "                                                                 \n",
            " block4_pool (MaxPooling2D)  (None, 11, 11, 512)       0         \n",
            "                                                                 \n",
            " block5_conv1 (Conv2D)       (None, 11, 11, 512)       2359808   \n",
            "                                                                 \n",
            " block5_conv2 (Conv2D)       (None, 11, 11, 512)       2359808   \n",
            "                                                                 \n",
            " block5_conv3 (Conv2D)       (None, 11, 11, 512)       2359808   \n",
            "                                                                 \n",
            " block5_conv4 (Conv2D)       (None, 11, 11, 512)       2359808   \n",
            "                                                                 \n",
            " block5_pool (MaxPooling2D)  (None, 5, 5, 512)         0         \n",
            "                                                                 \n",
            " flatten (Flatten)           (None, 12800)             0         \n",
            "                                                                 \n",
            " dense (Dense)               (None, 4)                 51204     \n",
            "                                                                 \n",
            "=================================================================\n",
            "Total params: 20,075,588\n",
            "Trainable params: 51,204\n",
            "Non-trainable params: 20,024,384\n",
            "_________________________________________________________________\n"
          ]
        }
      ]
    },
    {
      "cell_type": "code",
      "source": [
        "optimizer = Adam()\n",
        "model.compile(optimizer=optimizer, loss = CategoricalCrossentropy(), metrics=['accuracy'])"
      ],
      "metadata": {
        "id": "wjsv48-lSEzA"
      },
      "execution_count": 15,
      "outputs": []
    },
    {
      "cell_type": "markdown",
      "source": [
        "## Train the model"
      ],
      "metadata": {
        "id": "tHdVPXStSRSh"
      }
    },
    {
      "cell_type": "code",
      "source": [
        "callback = keras.callbacks.EarlyStopping(monitor='val_loss',\n",
        "                                            patience=8,\n",
        "                                            restore_best_weights=True)\n",
        "\n",
        "history = model.fit(train_generator,\n",
        "                    steps_per_epoch=train_generator.n // 32,\n",
        "                    validation_data=validation_generator,\n",
        "                    validation_steps=validation_generator.n // 8,\n",
        "                    epochs=50, \n",
        "                    callbacks=callback)"
      ],
      "metadata": {
        "colab": {
          "base_uri": "https://localhost:8080/"
        },
        "id": "c4L1662DSRrV",
        "outputId": "f7f00c3d-1092-4f4a-cdb5-d09daecab244"
      },
      "execution_count": 16,
      "outputs": [
        {
          "output_type": "stream",
          "name": "stdout",
          "text": [
            "Epoch 1/50\n",
            "144/144 [==============================] - 30s 161ms/step - loss: 0.9808 - accuracy: 0.5727 - val_loss: 1.0705 - val_accuracy: 0.5317\n",
            "Epoch 2/50\n",
            "144/144 [==============================] - 21s 145ms/step - loss: 0.7493 - accuracy: 0.6704 - val_loss: 0.8733 - val_accuracy: 0.6091\n",
            "Epoch 3/50\n",
            "144/144 [==============================] - 21s 146ms/step - loss: 0.5967 - accuracy: 0.7527 - val_loss: 0.8563 - val_accuracy: 0.6290\n",
            "Epoch 4/50\n",
            "144/144 [==============================] - 21s 148ms/step - loss: 0.5444 - accuracy: 0.7837 - val_loss: 0.7405 - val_accuracy: 0.6726\n",
            "Epoch 5/50\n",
            "144/144 [==============================] - 21s 144ms/step - loss: 0.4906 - accuracy: 0.8052 - val_loss: 0.7728 - val_accuracy: 0.6488\n",
            "Epoch 6/50\n",
            "144/144 [==============================] - 21s 148ms/step - loss: 0.4584 - accuracy: 0.8209 - val_loss: 0.7857 - val_accuracy: 0.6468\n",
            "Epoch 7/50\n",
            "144/144 [==============================] - 21s 147ms/step - loss: 0.4258 - accuracy: 0.8355 - val_loss: 0.6563 - val_accuracy: 0.7282\n",
            "Epoch 8/50\n",
            "144/144 [==============================] - 21s 144ms/step - loss: 0.3826 - accuracy: 0.8626 - val_loss: 0.6501 - val_accuracy: 0.7302\n",
            "Epoch 9/50\n",
            "144/144 [==============================] - 21s 145ms/step - loss: 0.3757 - accuracy: 0.8571 - val_loss: 0.6179 - val_accuracy: 0.7381\n",
            "Epoch 10/50\n",
            "144/144 [==============================] - 21s 148ms/step - loss: 0.3444 - accuracy: 0.8777 - val_loss: 0.6419 - val_accuracy: 0.7381\n",
            "Epoch 11/50\n",
            "144/144 [==============================] - 21s 146ms/step - loss: 0.3118 - accuracy: 0.8925 - val_loss: 0.5897 - val_accuracy: 0.7579\n",
            "Epoch 12/50\n",
            "144/144 [==============================] - 21s 144ms/step - loss: 0.2789 - accuracy: 0.9187 - val_loss: 0.5906 - val_accuracy: 0.7540\n",
            "Epoch 13/50\n",
            "144/144 [==============================] - 21s 145ms/step - loss: 0.2654 - accuracy: 0.9214 - val_loss: 0.6459 - val_accuracy: 0.7242\n",
            "Epoch 14/50\n",
            "144/144 [==============================] - 21s 147ms/step - loss: 0.2605 - accuracy: 0.9218 - val_loss: 0.5716 - val_accuracy: 0.7480\n",
            "Epoch 15/50\n",
            "144/144 [==============================] - 21s 145ms/step - loss: 0.2523 - accuracy: 0.9244 - val_loss: 0.5373 - val_accuracy: 0.7976\n",
            "Epoch 16/50\n",
            "144/144 [==============================] - 21s 148ms/step - loss: 0.2269 - accuracy: 0.9401 - val_loss: 0.5466 - val_accuracy: 0.7837\n",
            "Epoch 17/50\n",
            "144/144 [==============================] - 21s 145ms/step - loss: 0.2324 - accuracy: 0.9290 - val_loss: 0.5160 - val_accuracy: 0.7956\n",
            "Epoch 18/50\n",
            "144/144 [==============================] - 21s 149ms/step - loss: 0.2078 - accuracy: 0.9474 - val_loss: 0.4942 - val_accuracy: 0.8016\n",
            "Epoch 19/50\n",
            "144/144 [==============================] - 21s 144ms/step - loss: 0.1922 - accuracy: 0.9535 - val_loss: 0.4943 - val_accuracy: 0.8056\n",
            "Epoch 20/50\n",
            "144/144 [==============================] - 21s 148ms/step - loss: 0.2042 - accuracy: 0.9436 - val_loss: 0.4997 - val_accuracy: 0.7976\n",
            "Epoch 21/50\n",
            "144/144 [==============================] - 21s 145ms/step - loss: 0.1810 - accuracy: 0.9565 - val_loss: 0.4823 - val_accuracy: 0.8175\n",
            "Epoch 22/50\n",
            "144/144 [==============================] - 21s 149ms/step - loss: 0.1623 - accuracy: 0.9675 - val_loss: 0.4286 - val_accuracy: 0.8353\n",
            "Epoch 23/50\n",
            "144/144 [==============================] - 21s 146ms/step - loss: 0.1546 - accuracy: 0.9712 - val_loss: 0.4085 - val_accuracy: 0.8492\n",
            "Epoch 24/50\n",
            "144/144 [==============================] - 21s 144ms/step - loss: 0.1619 - accuracy: 0.9657 - val_loss: 0.4581 - val_accuracy: 0.8274\n",
            "Epoch 25/50\n",
            "144/144 [==============================] - 21s 148ms/step - loss: 0.1629 - accuracy: 0.9559 - val_loss: 0.4672 - val_accuracy: 0.8135\n",
            "Epoch 26/50\n",
            "144/144 [==============================] - 21s 145ms/step - loss: 0.1424 - accuracy: 0.9701 - val_loss: 0.4109 - val_accuracy: 0.8413\n",
            "Epoch 27/50\n",
            "144/144 [==============================] - 21s 147ms/step - loss: 0.1320 - accuracy: 0.9788 - val_loss: 0.4095 - val_accuracy: 0.8413\n",
            "Epoch 28/50\n",
            "144/144 [==============================] - 21s 146ms/step - loss: 0.1292 - accuracy: 0.9768 - val_loss: 0.3900 - val_accuracy: 0.8472\n",
            "Epoch 29/50\n",
            "144/144 [==============================] - 21s 147ms/step - loss: 0.1230 - accuracy: 0.9784 - val_loss: 0.4542 - val_accuracy: 0.8353\n",
            "Epoch 30/50\n",
            "144/144 [==============================] - 21s 145ms/step - loss: 0.1186 - accuracy: 0.9808 - val_loss: 0.4354 - val_accuracy: 0.8413\n",
            "Epoch 31/50\n",
            "144/144 [==============================] - 21s 144ms/step - loss: 0.1170 - accuracy: 0.9799 - val_loss: 0.4601 - val_accuracy: 0.8294\n",
            "Epoch 32/50\n",
            "144/144 [==============================] - 21s 146ms/step - loss: 0.1094 - accuracy: 0.9836 - val_loss: 0.3656 - val_accuracy: 0.8631\n",
            "Epoch 33/50\n",
            "144/144 [==============================] - 21s 148ms/step - loss: 0.1024 - accuracy: 0.9895 - val_loss: 0.3821 - val_accuracy: 0.8472\n",
            "Epoch 34/50\n",
            "144/144 [==============================] - 21s 144ms/step - loss: 0.1326 - accuracy: 0.9633 - val_loss: 0.3763 - val_accuracy: 0.8571\n",
            "Epoch 35/50\n",
            "144/144 [==============================] - 21s 148ms/step - loss: 0.0955 - accuracy: 0.9884 - val_loss: 0.3797 - val_accuracy: 0.8512\n",
            "Epoch 36/50\n",
            "144/144 [==============================] - 21s 146ms/step - loss: 0.0937 - accuracy: 0.9858 - val_loss: 0.4080 - val_accuracy: 0.8472\n",
            "Epoch 37/50\n",
            "144/144 [==============================] - 21s 144ms/step - loss: 0.0940 - accuracy: 0.9856 - val_loss: 0.4655 - val_accuracy: 0.8056\n",
            "Epoch 38/50\n",
            "144/144 [==============================] - 21s 145ms/step - loss: 0.0847 - accuracy: 0.9906 - val_loss: 0.3570 - val_accuracy: 0.8611\n",
            "Epoch 39/50\n",
            "144/144 [==============================] - 21s 148ms/step - loss: 0.0799 - accuracy: 0.9926 - val_loss: 0.3771 - val_accuracy: 0.8591\n",
            "Epoch 40/50\n",
            "144/144 [==============================] - 21s 145ms/step - loss: 0.0779 - accuracy: 0.9930 - val_loss: 0.3565 - val_accuracy: 0.8611\n",
            "Epoch 41/50\n",
            "144/144 [==============================] - 21s 148ms/step - loss: 0.0781 - accuracy: 0.9913 - val_loss: 0.3974 - val_accuracy: 0.8373\n",
            "Epoch 42/50\n",
            "144/144 [==============================] - 21s 145ms/step - loss: 0.0809 - accuracy: 0.9919 - val_loss: 0.3503 - val_accuracy: 0.8710\n",
            "Epoch 43/50\n",
            "144/144 [==============================] - 21s 147ms/step - loss: 0.0669 - accuracy: 0.9965 - val_loss: 0.3515 - val_accuracy: 0.8631\n",
            "Epoch 44/50\n",
            "144/144 [==============================] - 21s 145ms/step - loss: 0.0694 - accuracy: 0.9919 - val_loss: 0.3631 - val_accuracy: 0.8571\n",
            "Epoch 45/50\n",
            "144/144 [==============================] - 21s 146ms/step - loss: 0.0623 - accuracy: 0.9965 - val_loss: 0.3630 - val_accuracy: 0.8492\n",
            "Epoch 46/50\n",
            "144/144 [==============================] - 21s 146ms/step - loss: 0.0623 - accuracy: 0.9956 - val_loss: 0.3420 - val_accuracy: 0.8750\n",
            "Epoch 47/50\n",
            "144/144 [==============================] - 21s 146ms/step - loss: 0.0598 - accuracy: 0.9954 - val_loss: 0.3680 - val_accuracy: 0.8730\n",
            "Epoch 48/50\n",
            "144/144 [==============================] - 21s 149ms/step - loss: 0.0590 - accuracy: 0.9956 - val_loss: 0.3369 - val_accuracy: 0.8690\n",
            "Epoch 49/50\n",
            "144/144 [==============================] - 21s 145ms/step - loss: 0.0650 - accuracy: 0.9913 - val_loss: 0.3251 - val_accuracy: 0.8750\n",
            "Epoch 50/50\n",
            "144/144 [==============================] - 21s 144ms/step - loss: 0.0578 - accuracy: 0.9950 - val_loss: 0.3299 - val_accuracy: 0.8671\n"
          ]
        }
      ]
    },
    {
      "cell_type": "markdown",
      "source": [
        "## Training vs Validation accuracy"
      ],
      "metadata": {
        "id": "SCSek6aAUPWb"
      }
    },
    {
      "cell_type": "code",
      "source": [
        "acc = history.history['accuracy']\n",
        "val_acc = history.history['val_accuracy']\n",
        "loss = history.history['loss']\n",
        "val_loss = history.history['val_loss']\n",
        "\n",
        "epochs = range(len(acc))\n",
        "\n",
        "plt.plot(epochs, acc, 'r', label='Training accuracy')\n",
        "plt.plot(epochs, val_acc, 'b', label='Validation accuracy')\n",
        "plt.title('Training and validation accuracy')\n",
        "plt.legend(loc=0)\n",
        "plt.figure()\n",
        "\n",
        "\n",
        "plt.show()"
      ],
      "metadata": {
        "colab": {
          "base_uri": "https://localhost:8080/",
          "height": 298
        },
        "id": "2ydw5vMUUEVh",
        "outputId": "46206519-9461-4e43-e985-47853176fd50"
      },
      "execution_count": 17,
      "outputs": [
        {
          "output_type": "display_data",
          "data": {
            "text/plain": [
              "<Figure size 432x288 with 1 Axes>"
            ],
            "image/png": "[encoded data removed]"
          },
          "metadata": {
            "needs_background": "light"
          }
        },
        {
          "output_type": "display_data",
          "data": {
            "text/plain": [
              "<Figure size 432x288 with 0 Axes>"
            ]
          },
          "metadata": {}
        }
      ]
    },
    {
      "cell_type": "markdown",
      "source": [
        "##Test"
      ],
      "metadata": {
        "id": "8qm66uI2WEAi"
      }
    },
    {
      "cell_type": "code",
      "source": [
        "test_datagen = ImageDataGenerator(rescale=1.0/255)"
      ],
      "metadata": {
        "id": "9KDTZQjGUV0g"
      },
      "execution_count": 18,
      "outputs": []
    },
    {
      "cell_type": "code",
      "source": [
        "test_generator = test_datagen.flow_from_directory(\n",
        "    test_dir,\n",
        "    color_mode=\"rgb\",\n",
        "    class_mode=None,\n",
        "    shuffle=False,\n",
        "    target_size=(176, 176)\n",
        "    )"
      ],
      "metadata": {
        "colab": {
          "base_uri": "https://localhost:8080/"
        },
        "id": "b2LkpsY2WIIb",
        "outputId": "f3125c61-6c57-49ff-919c-483c0de51df3"
      },
      "execution_count": 19,
      "outputs": [
        {
          "output_type": "stream",
          "name": "stdout",
          "text": [
            "Found 1279 images belonging to 4 classes.\n"
          ]
        }
      ]
    },
    {
      "cell_type": "code",
      "source": [
        "test_generator.class_indices"
      ],
      "metadata": {
        "colab": {
          "base_uri": "https://localhost:8080/"
        },
        "id": "xbfUXYvgWaPo",
        "outputId": "b0ec8947-f2de-46db-a282-aee879f9a9d2"
      },
      "execution_count": 20,
      "outputs": [
        {
          "output_type": "execute_result",
          "data": {
            "text/plain": [
              "{'MildDemented': 0,\n",
              " 'ModerateDemented': 1,\n",
              " 'NonDemented': 2,\n",
              " 'VeryMildDemented': 3}"
            ]
          },
          "metadata": {},
          "execution_count": 20
        }
      ]
    },
    {
      "cell_type": "code",
      "source": [
        "predictions = model.predict(test_generator)\n"
      ],
      "metadata": {
        "colab": {
          "base_uri": "https://localhost:8080/"
        },
        "id": "xcFUnpJiWebg",
        "outputId": "d940da07-2a1c-470a-a04a-6a7f05e18311"
      },
      "execution_count": 21,
      "outputs": [
        {
          "output_type": "stream",
          "name": "stdout",
          "text": [
            "40/40 [==============================] - 7s 173ms/step\n"
          ]
        }
      ]
    },
    {
      "cell_type": "code",
      "source": [
        "# Predicted Labels\n",
        "predictions.argmax(axis=-1)"
      ],
      "metadata": {
        "colab": {
          "base_uri": "https://localhost:8080/"
        },
        "id": "sPUGqUR7WgyF",
        "outputId": "59194e43-d15b-46b9-c42e-b7de1532bf1a"
      },
      "execution_count": 22,
      "outputs": [
        {
          "output_type": "execute_result",
          "data": {
            "text/plain": [
              "array([0, 0, 0, ..., 3, 3, 2])"
            ]
          },
          "metadata": {},
          "execution_count": 22
        }
      ]
    },
    {
      "cell_type": "code",
      "source": [
        "# True Labels\n",
        "test_generator.classes"
      ],
      "metadata": {
        "colab": {
          "base_uri": "https://localhost:8080/"
        },
        "id": "rYvwQV69c1jd",
        "outputId": "c098a4c6-11e8-44a6-e4b5-cf648cd5986b"
      },
      "execution_count": 23,
      "outputs": [
        {
          "output_type": "execute_result",
          "data": {
            "text/plain": [
              "array([0, 0, 0, ..., 3, 3, 3], dtype=int32)"
            ]
          },
          "metadata": {},
          "execution_count": 23
        }
      ]
    },
    {
      "cell_type": "code",
      "source": [
        "correct = predictions.argmax(axis=-1) == test_generator.classes"
      ],
      "metadata": {
        "id": "IKeNoO44c4sS"
      },
      "execution_count": 24,
      "outputs": []
    },
    {
      "cell_type": "code",
      "source": [
        "accuracy = np.count_nonzero(correct)/ len(predictions)\n",
        "accuracy"
      ],
      "metadata": {
        "colab": {
          "base_uri": "https://localhost:8080/"
        },
        "id": "5NvoB_lsdENx",
        "outputId": "6030ac80-388c-4081-86b1-32e0fc8da659"
      },
      "execution_count": 25,
      "outputs": [
        {
          "output_type": "execute_result",
          "data": {
            "text/plain": [
              "69.19468334636434"
            ]
          },
          "metadata": {},
          "execution_count": 25
        }
      ]
    }
  ]
}